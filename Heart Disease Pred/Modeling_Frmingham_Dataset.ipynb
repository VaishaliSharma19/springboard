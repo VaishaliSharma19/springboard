{
 "cells": [
  {
   "cell_type": "markdown",
   "id": "4dbbe146-e204-4d84-bd84-e5b19c00d624",
   "metadata": {},
   "source": [
    "### Introduction\n",
    "In this project, I leveraged the Framingham Heart Study dataset from Kaggle, a well-known longitudinal study initiated in 1948 to identify common factors contributing to cardiovascular disease (CVD). The dataset includes a wide range of demographic, behavioral, and medical variables, offering a comprehensive view of risk factors associated with the development of coronary heart disease (CHD). By applying advanced machine learning techniques, the goal of this project was to predict the likelihood of CHD within a 10-year period, thus contributing to the ongoing efforts in early detection and prevention of cardiovascular diseases."
   ]
  },
  {
   "cell_type": "code",
   "execution_count": 1,
   "id": "cbe306a2-11d3-4f03-8ca4-36f8651471bb",
   "metadata": {},
   "outputs": [
    {
     "name": "stdout",
     "output_type": "stream",
     "text": [
      "        age  education  currentSmoker  cigsPerDay    BPMeds  prevalentStroke  \\\n",
      "0 -1.234820   2.006317      -0.988035   -0.751105 -0.173633        -0.077042   \n",
      "1 -0.417951   0.020157      -0.988035   -0.751105 -0.173633        -0.077042   \n",
      "2 -0.184559  -0.972923       1.012110    0.929343 -0.173633        -0.077042   \n",
      "3  1.332484   1.013237       1.012110    1.769567 -0.173633        -0.077042   \n",
      "4 -0.417951   1.013237       1.012110    1.181410 -0.173633        -0.077042   \n",
      "\n",
      "   prevalentHyp   totChol     sysBP     diaBP       BMI  heartRate   glucose  \\\n",
      "0     -0.670846 -0.940601 -1.195805 -1.082710  0.287578   0.342704 -0.201243   \n",
      "1     -0.670846  0.300189 -0.514898 -0.159134  0.719937   1.590087 -0.244978   \n",
      "2     -0.670846  0.187390 -0.219839 -0.243096 -0.112846  -0.073090 -0.507390   \n",
      "3      1.490655 -0.263807  0.801521  1.016326  0.683088  -0.904679  0.935877   \n",
      "4     -0.670846  1.089783 -0.106354  0.092750 -0.663121   0.758498  0.148640   \n",
      "\n",
      "   TenYearCHD  male_1  diabetes_1  \n",
      "0   -0.422977    True       False  \n",
      "1   -0.422977   False       False  \n",
      "2   -0.422977    True       False  \n",
      "3    2.364196   False       False  \n",
      "4   -0.422977   False       False  \n"
     ]
    }
   ],
   "source": [
    "import pandas as pd\n",
    "import matplotlib.pyplot as plt\n",
    "import seaborn as sns\n",
    "from sklearn.model_selection import train_test_split, GridSearchCV\n",
    "from sklearn.preprocessing import StandardScaler\n",
    "from sklearn.linear_model import LogisticRegression\n",
    "from sklearn.ensemble import RandomForestClassifier\n",
    "import xgboost as xgb\n",
    "from sklearn.metrics import accuracy_score, precision_score, recall_score, f1_score, roc_auc_score\n",
    "from sklearn.metrics import classification_report\n",
    "import warnings\n",
    "warnings.filterwarnings('ignore')\n",
    "\n",
    "# Load the dataset\n",
    "df_heart = pd.read_csv('framingham_preprocessed.csv', on_bad_lines='skip')\n",
    "\n",
    "# Inspect the data\n",
    "print(df_heart.head())\n",
    "\n",
    "# Drop rows with missing values (simplified approach)\n",
    "df_heart.dropna(inplace=True)\n"
   ]
  },
  {
   "cell_type": "code",
   "execution_count": 2,
   "id": "98b8c207-3470-4653-ae0b-c693723706a2",
   "metadata": {},
   "outputs": [
    {
     "name": "stdout",
     "output_type": "stream",
     "text": [
      "        age  education  currentSmoker  cigsPerDay    BPMeds  prevalentStroke  \\\n",
      "0 -1.234820   2.006317      -0.988035   -0.751105 -0.173633        -0.077042   \n",
      "1 -0.417951   0.020157      -0.988035   -0.751105 -0.173633        -0.077042   \n",
      "2 -0.184559  -0.972923       1.012110    0.929343 -0.173633        -0.077042   \n",
      "3  1.332484   1.013237       1.012110    1.769567 -0.173633        -0.077042   \n",
      "4 -0.417951   1.013237       1.012110    1.181410 -0.173633        -0.077042   \n",
      "\n",
      "   prevalentHyp   totChol     sysBP     diaBP       BMI  heartRate   glucose  \\\n",
      "0     -0.670846 -0.940601 -1.195805 -1.082710  0.287578   0.342704 -0.201243   \n",
      "1     -0.670846  0.300189 -0.514898 -0.159134  0.719937   1.590087 -0.244978   \n",
      "2     -0.670846  0.187390 -0.219839 -0.243096 -0.112846  -0.073090 -0.507390   \n",
      "3      1.490655 -0.263807  0.801521  1.016326  0.683088  -0.904679  0.935877   \n",
      "4     -0.670846  1.089783 -0.106354  0.092750 -0.663121   0.758498  0.148640   \n",
      "\n",
      "   TenYearCHD  male_1  diabetes_1  \n",
      "0           0       1           0  \n",
      "1           0       0           0  \n",
      "2           0       1           0  \n",
      "3           1       0           0  \n",
      "4           0       0           0  \n"
     ]
    }
   ],
   "source": [
    "# Convert the 'male_1' and 'diabetes_1' columns from boolean to 0 and 1\n",
    "df_heart['male_1'] = df_heart['male_1'].astype(int)\n",
    "df_heart['diabetes_1'] = df_heart['diabetes_1'].astype(int)\n",
    "# Convert 'TenYearCHD' to binary (0 and 1) based on a threshold\n",
    "df_heart['TenYearCHD'] = (df_heart['TenYearCHD'] > 0).astype(int)\n",
    "\n",
    "# Display the updated dataframe to confirm the changes\n",
    "print(df_heart.head())\n"
   ]
  },
  {
   "cell_type": "code",
   "execution_count": 3,
   "id": "5b9e8621-82fb-44ce-a55d-7b95c4882be9",
   "metadata": {},
   "outputs": [
    {
     "name": "stdout",
     "output_type": "stream",
     "text": [
      "<class 'pandas.core.frame.DataFrame'>\n",
      "RangeIndex: 4237 entries, 0 to 4236\n",
      "Data columns (total 16 columns):\n",
      " #   Column           Non-Null Count  Dtype  \n",
      "---  ------           --------------  -----  \n",
      " 0   age              4237 non-null   float64\n",
      " 1   education        4237 non-null   float64\n",
      " 2   currentSmoker    4237 non-null   float64\n",
      " 3   cigsPerDay       4237 non-null   float64\n",
      " 4   BPMeds           4237 non-null   float64\n",
      " 5   prevalentStroke  4237 non-null   float64\n",
      " 6   prevalentHyp     4237 non-null   float64\n",
      " 7   totChol          4237 non-null   float64\n",
      " 8   sysBP            4237 non-null   float64\n",
      " 9   diaBP            4237 non-null   float64\n",
      " 10  BMI              4237 non-null   float64\n",
      " 11  heartRate        4237 non-null   float64\n",
      " 12  glucose          4237 non-null   float64\n",
      " 13  TenYearCHD       4237 non-null   int64  \n",
      " 14  male_1           4237 non-null   int64  \n",
      " 15  diabetes_1       4237 non-null   int64  \n",
      "dtypes: float64(13), int64(3)\n",
      "memory usage: 529.8 KB\n"
     ]
    }
   ],
   "source": [
    "df_heart.info()"
   ]
  },
  {
   "cell_type": "code",
   "execution_count": 4,
   "id": "a63ee8bc-d007-4829-ac07-1b96a9ca0e8e",
   "metadata": {},
   "outputs": [
    {
     "data": {
      "image/png": "[encoded data removed]",
      "text/plain": [
       "<Figure size 800x500 with 1 Axes>"
      ]
     },
     "metadata": {},
     "output_type": "display_data"
    }
   ],
   "source": [
    "target_column = 'TenYearCHD'\n",
    "class_counts = df_heart[target_column].value_counts()\n",
    "\n",
    "# Plotting the class distribution\n",
    "plt.figure(figsize=(8, 5))\n",
    "sns.barplot(x=class_counts.index, y=class_counts.values)\n",
    "plt.title('Class Distribution of the Target Variable (TenYearCHD)')\n",
    "plt.xlabel('Class')\n",
    "plt.ylabel('Count')\n",
    "plt.show()"
   ]
  },
  {
   "cell_type": "markdown",
   "id": "4ad6a393-c17f-4fa2-88ac-318f8dedfda6",
   "metadata": {},
   "source": [
    "The initial analysis of the target variable distribution revealed a significant imbalance, which could lead to biased model performance, particularly in predicting the minority class. To address this, I employed resampling techniques aimed at balancing the dataset before model training. Below is a detailed breakdown of the approach:\n",
    "\n",
    "Separate Classes:\n",
    "The first step involved segregating the dataset into two distinct subsets based on the target variable: one for the majority class (non-events) and another for the minority class (events). This separation was crucial for applying the resampling technique effectively.\n",
    "\n",
    "Upsample Minority Class:\n",
    "To counteract the imbalance, I applied the resample function from sklearn.utils to the minority class. This technique involves randomly duplicating samples from the minority class until the number of samples matches that of the majority class. By increasing the representation of the minority class, this step ensures that the model receives a balanced set of inputs during training, which is critical for improving its ability to correctly identify minority class instances.\n",
    "\n",
    "Combine Datasets:\n",
    "After upsampling the minority class, the next step was to recombine it with the majority class. This process yielded a new, balanced dataset where the target variable's distribution was even across both classes. This balanced dataset was then used to train the machine learning models, allowing for more equitable learning and reducing the risk of the model favoring the majority class.\n",
    "\n"
   ]
  },
  {
   "cell_type": "code",
   "execution_count": 6,
   "id": "a8272d97-2cb3-4f26-961f-2f45c45aba8b",
   "metadata": {},
   "outputs": [
    {
     "data": {
      "text/plain": [
       "TenYearCHD\n",
       "0    3594\n",
       "1    3594\n",
       "Name: count, dtype: int64"
      ]
     },
     "execution_count": 6,
     "metadata": {},
     "output_type": "execute_result"
    }
   ],
   "source": [
    "from sklearn.utils import resample\n",
    "\n",
    "# Separate the minority and majority classes\n",
    "data_majority = df_heart[df_heart[target_column] == 0]\n",
    "data_minority = df_heart[df_heart[target_column] == 1]\n",
    "\n",
    "# Upsample minority class\n",
    "data_minority_upsampled = resample(data_minority, \n",
    "                                   replace=True,     # sample with replacement\n",
    "                                   n_samples=len(data_majority),    # to match majority class\n",
    "                                   random_state=123) # reproducible results\n",
    "\n",
    "# Combine majority class with upsampled minority class\n",
    "data_upsampled = pd.concat([data_majority, data_minority_upsampled])\n",
    "\n",
    "# Display new class counts\n",
    "upsampled_class_counts = data_upsampled[target_column].value_counts()\n",
    "upsampled_class_counts\n"
   ]
  },
  {
   "cell_type": "markdown",
   "id": "3caf8e10-1cb6-4394-8142-5129d8d2648f",
   "metadata": {},
   "source": [
    "#### Conclusion:\n",
    "\n",
    "This resampling approach effectively addressed the issue of class imbalance, ensuring that the machine learning models developed in this project were trained on a balanced dataset. This balance is vital for achieving reliable and generalizable model performance, particularly when predicting rare events, such as the occurrence of coronary heart disease (CHD) within the dataset.\n"
   ]
  },
  {
   "cell_type": "code",
   "execution_count": 7,
   "id": "3693f47f-6aad-4253-97ee-c52b103dea4d",
   "metadata": {},
   "outputs": [],
   "source": [
    "# Splitting the dataset into features and target variable\n",
    "X = data_upsampled.drop('TenYearCHD', axis=1)\n",
    "y = data_upsampled['TenYearCHD']\n",
    "\n",
    "# Splitting the data into training and test sets\n",
    "X_train, X_test, y_train, y_test = train_test_split(X, y, test_size=0.2, random_state=42)"
   ]
  },
  {
   "cell_type": "code",
   "execution_count": 8,
   "id": "c93d46f9-fa62-4da8-9214-1e3af946cf88",
   "metadata": {},
   "outputs": [
    {
     "name": "stdout",
     "output_type": "stream",
     "text": [
      "              precision    recall  f1-score   support\n",
      "\n",
      "           0       0.68      0.65      0.67       753\n",
      "           1       0.64      0.67      0.65       685\n",
      "\n",
      "    accuracy                           0.66      1438\n",
      "   macro avg       0.66      0.66      0.66      1438\n",
      "weighted avg       0.66      0.66      0.66      1438\n",
      "\n"
     ]
    }
   ],
   "source": [
    "# Define the Logistic Regression model\n",
    "log_reg = LogisticRegression()\n",
    "\n",
    "# Hyperparameter tuning using GridSearchCV\n",
    "param_grid = {'C': [0.01, 0.1, 1, 10, 100]}\n",
    "log_reg = LogisticRegression(class_weight='balanced', random_state=42)\n",
    "log_reg.fit(X_train, y_train)\n",
    "#grid_log_reg = GridSearchCV(log_reg, param_grid, cv=5, scoring='f1')\n",
    "#grid_log_reg.fit(X_train, y_train)\n",
    "\n",
    "# Best model\n",
    "#best_log_reg = grid_log_reg.best_estimator_\n",
    "\n",
    "# Predictions and evaluation\n",
    "y_pred_log = log_reg.predict(X_test)\n",
    "# Generate and print the classification report\n",
    "report = classification_report(y_test, y_pred_log)\n",
    "print(report)"
   ]
  },
  {
   "cell_type": "code",
   "execution_count": 9,
   "id": "64e65098-c88e-4d00-9007-7a23f0991c17",
   "metadata": {},
   "outputs": [
    {
     "name": "stdout",
     "output_type": "stream",
     "text": [
      "              precision    recall  f1-score   support\n",
      "\n",
      "           0       0.99      0.96      0.98       753\n",
      "           1       0.96      0.99      0.97       685\n",
      "\n",
      "    accuracy                           0.97      1438\n",
      "   macro avg       0.97      0.98      0.97      1438\n",
      "weighted avg       0.98      0.97      0.97      1438\n",
      "\n"
     ]
    }
   ],
   "source": [
    "# Define the Random Forest model\n",
    "# Initialize the Random Forest classifier\n",
    "from sklearn.ensemble import RandomForestClassifier\n",
    "\n",
    "rf = RandomForestClassifier(class_weight='balanced', random_state=42)\n",
    "rf.fit(X_train, y_train)\n",
    "\n",
    "# Make predictions on the test set\n",
    "y_pred = rf.predict(X_test)\n",
    "report_rf = classification_report(y_test, y_pred)\n",
    "print(report_rf)"
   ]
  },
  {
   "cell_type": "code",
   "execution_count": 10,
   "id": "adc7632f-90ff-47ac-8b16-7d56476b8ae6",
   "metadata": {},
   "outputs": [
    {
     "name": "stdout",
     "output_type": "stream",
     "text": [
      "              precision    recall  f1-score   support\n",
      "\n",
      "           0       0.99      0.91      0.95       753\n",
      "           1       0.91      0.99      0.95       685\n",
      "\n",
      "    accuracy                           0.95      1438\n",
      "   macro avg       0.95      0.95      0.95      1438\n",
      "weighted avg       0.95      0.95      0.95      1438\n",
      "\n"
     ]
    }
   ],
   "source": [
    "import xgboost as xgb\n",
    "\n",
    "# Define the XGBoost model without the use_label_encoder parameter and set verbosity to 1\n",
    "xgb_model = xgb.XGBClassifier(eval_metric='logloss', verbosity=1)\n",
    "\n",
    "# Now proceed with the rest of your code\n",
    "param_grid = {\n",
    "    'learning_rate': [0.01, 0.1, 0.2],\n",
    "    'n_estimators': [100, 200, 300],\n",
    "    'max_depth': [3, 5, 7]\n",
    "}\n",
    "grid_xgb = GridSearchCV(xgb_model, param_grid, cv=5, scoring='f1')\n",
    "grid_xgb.fit(X_train, y_train)\n",
    "\n",
    "# Predictions and evaluation\n",
    "y_pred_xgb = grid_xgb.best_estimator_.predict(X_test)\n",
    "\n",
    "report_xgb = classification_report(y_test, y_pred_xgb)\n",
    "print(report_xgb)"
   ]
  },
  {
   "cell_type": "code",
   "execution_count": 11,
   "id": "d0a37b76-53c1-4408-bf06-396fd54ce5fa",
   "metadata": {},
   "outputs": [
    {
     "name": "stdout",
     "output_type": "stream",
     "text": [
      "Logistic Regression - Accuracy: 0.66, Precision: 0.64, Recall: 0.67, F1: 0.65, ROC-AUC: 0.66\n",
      "Random Forest - Accuracy: 0.97, Precision: 0.96, Recall: 0.99, F1: 0.97, ROC-AUC: 0.98\n",
      "XGBoost - Accuracy: 0.95, Precision: 0.91, Recall: 0.99, F1: 0.95, ROC-AUC: 0.95\n"
     ]
    }
   ],
   "source": [
    "# Function to evaluate models\n",
    "def evaluate_model(y_test, y_pred):\n",
    "    accuracy = accuracy_score(y_test, y_pred)\n",
    "    precision = precision_score(y_test, y_pred)\n",
    "    recall = recall_score(y_test, y_pred)\n",
    "    f1 = f1_score(y_test, y_pred)\n",
    "    roc_auc = roc_auc_score(y_test, y_pred)\n",
    "    return accuracy, precision, recall, f1, roc_auc\n",
    "\n",
    "# Evaluate Logistic Regression\n",
    "log_reg_results = evaluate_model(y_test, y_pred_log)\n",
    "print(f\"Logistic Regression - Accuracy: {log_reg_results[0]:.2f}, Precision: {log_reg_results[1]:.2f}, Recall: {log_reg_results[2]:.2f}, F1: {log_reg_results[3]:.2f}, ROC-AUC: {log_reg_results[4]:.2f}\")\n",
    "\n",
    "# Evaluate Random Forest\n",
    "rf_results = evaluate_model(y_test, y_pred)\n",
    "print(f\"Random Forest - Accuracy: {rf_results[0]:.2f}, Precision: {rf_results[1]:.2f}, Recall: {rf_results[2]:.2f}, F1: {rf_results[3]:.2f}, ROC-AUC: {rf_results[4]:.2f}\")\n",
    "\n",
    "# Evaluate XGBoost\n",
    "xgb_results = evaluate_model(y_test, y_pred_xgb)\n",
    "print(f\"XGBoost - Accuracy: {xgb_results[0]:.2f}, Precision: {xgb_results[1]:.2f}, Recall: {xgb_results[2]:.2f}, F1: {xgb_results[3]:.2f}, ROC-AUC: {xgb_results[4]:.2f}\")\n"
   ]
  },
  {
   "cell_type": "markdown",
   "id": "bff3d90f-e5cd-4ef3-a31b-b971b2a184dc",
   "metadata": {},
   "source": [
    "* Logistic Regression shows moderate performance with balanced precision and recall. The F1 score suggests that the model is reasonably good at predicting both classes, but the overall accuracy and ROC-AUC are relatively low, indicating that this model might not be the best choice for this dataset.\n",
    "\n",
    "* Random Forest demonstrates excellent performance across all metrics, with high accuracy, precision, recall, and F1 score. The near-perfect recall indicates that the model is extremely good at identifying the positive class, while the high precision and ROC-AUC suggest strong overall model performance. This model likely provides a robust and reliable solution for predicting outcomes in this dataset.\n",
    "\n",
    "* XGBoost also performs exceptionally well, with high accuracy, precision, recall, and F1 score, closely following Random Forest. The model's slightly lower performance metrics compared to Random Forest, particularly in precision, might make Random Forest a slightly better choice, but XGBoost remains a strong contender, especially if interpretability and speed are prioritized.\n",
    "\n",
    "### Inference:\n",
    "\n",
    "Best Model: Random Forest appears to be the best-performing model, given its superior accuracy, recall, F1 score, and ROC-AUC.\n",
    "Model Choice: Both Random Forest and XGBoost offer strong predictive performance, but Random Forest slightly edges out XGBoost. Logistic Regression, while useful for its simplicity and interpretability, falls short in comparison to the ensemble methods.\n",
    "Given these results, Random Forest is recommended as the final model for predicting outcomes using this dataset, as it offers the best balance of precision, recall, and overall model performance."
   ]
  },
  {
   "cell_type": "code",
   "execution_count": null,
   "id": "cd9868a0-cc44-491f-a15b-52636dfe1cb0",
   "metadata": {},
   "outputs": [],
   "source": []
  }
 ],
 "metadata": {
  "kernelspec": {
   "display_name": "Python 3 (ipykernel)",
   "language": "python",
   "name": "python3"
  },
  "language_info": {
   "codemirror_mode": {
    "name": "ipython",
    "version": 3
   },
   "file_extension": ".py",
   "mimetype": "text/x-python",
   "name": "python",
   "nbconvert_exporter": "python",
   "pygments_lexer": "ipython3",
   "version": "3.11.5"
  }
 },
 "nbformat": 4,
 "nbformat_minor": 5
}
