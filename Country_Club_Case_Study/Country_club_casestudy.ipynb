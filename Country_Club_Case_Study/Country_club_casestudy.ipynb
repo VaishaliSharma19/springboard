{
 "cells": [
  {
   "cell_type": "code",
   "execution_count": 3,
   "id": "b728b70e-4873-4146-97af-b76db661c90e",
   "metadata": {},
   "outputs": [],
   "source": [
    "from sqlalchemy import create_engine\n",
    "import pandas as pd\n",
    "from sqlalchemy import inspect\n",
    "engine = create_engine('sqlite:///sqlite_db_pythonsqlite.db')\n"
   ]
  },
  {
   "cell_type": "code",
   "execution_count": 5,
   "id": "53851313-70e0-4b9c-ac68-5840e8e98768",
   "metadata": {},
   "outputs": [
    {
     "name": "stdout",
     "output_type": "stream",
     "text": [
      "['Bookings', 'Facilities', 'Members']\n"
     ]
    }
   ],
   "source": [
    "# Create an inspector object\n",
    "inspector = inspect(engine)\n",
    "\n",
    "# Get a list of all table names\n",
    "tables = inspector.get_table_names()\n",
    "\n",
    "# Print the list of tables\n",
    "print(tables)\n"
   ]
  },
  {
   "cell_type": "code",
   "execution_count": 6,
   "id": "1d2befdc-5b32-4820-9c44-853e5b6a61ba",
   "metadata": {},
   "outputs": [
    {
     "name": "stdout",
     "output_type": "stream",
     "text": [
      "   facid             name  membercost  guestcost  initialoutlay  \\\n",
      "0      0   Tennis Court 1         5.0       25.0          10000   \n",
      "1      1   Tennis Court 2         5.0       25.0           8000   \n",
      "2      2  Badminton Court         0.0       15.5           4000   \n",
      "3      3     Table Tennis         0.0        5.0            320   \n",
      "4      4   Massage Room 1         9.9       80.0           4000   \n",
      "\n",
      "   monthlymaintenance  \n",
      "0                 200  \n",
      "1                 200  \n",
      "2                  50  \n",
      "3                  10  \n",
      "4                3000  \n"
     ]
    }
   ],
   "source": [
    "query = \"SELECT * FROM Facilities\"\n",
    "df = pd.read_sql_query(query, engine)\n",
    "\n",
    "# Display the dataframe\n",
    "print(df.head())"
   ]
  },
  {
   "cell_type": "code",
   "execution_count": 7,
   "id": "7ef6e2f8-7a24-403f-b965-bb581b671b6d",
   "metadata": {},
   "outputs": [
    {
     "name": "stdout",
     "output_type": "stream",
     "text": [
      "   bookid  facid  memid            starttime  slots\n",
      "0       0      3      1  2012-07-03 11:00:00      2\n",
      "1       1      4      1  2012-07-03 08:00:00      2\n",
      "2       2      6      0  2012-07-03 18:00:00      2\n",
      "3       3      7      1  2012-07-03 19:00:00      2\n",
      "4       4      8      1  2012-07-03 10:00:00      1\n"
     ]
    }
   ],
   "source": [
    "query = \"SELECT * FROM Bookings\"\n",
    "df_Bookings = pd.read_sql_query(query, engine)\n",
    "\n",
    "# Display the dataframe\n",
    "print(df_Bookings.head())"
   ]
  },
  {
   "cell_type": "code",
   "execution_count": 8,
   "id": "c530c5c7-289a-4825-8b92-11b2409a743f",
   "metadata": {},
   "outputs": [
    {
     "name": "stdout",
     "output_type": "stream",
     "text": [
      "   memid   surname firstname                       address  zipcode  \\\n",
      "0      0     GUEST     GUEST                         GUEST        0   \n",
      "1      1     Smith    Darren    8 Bloomsbury Close, Boston     4321   \n",
      "2      2     Smith     Tracy  8 Bloomsbury Close, New York     4321   \n",
      "3      3    Rownam       Tim        23 Highway Way, Boston    23423   \n",
      "4      4  Joplette    Janice    20 Crossing Road, New York      234   \n",
      "\n",
      "        telephone recommendedby             joindate  \n",
      "0  (000) 000-0000                2012-07-01 00:00:00  \n",
      "1    555-555-5555                2012-07-02 12:02:05  \n",
      "2    555-555-5555                2012-07-02 12:08:23  \n",
      "3  (844) 693-0723                2012-07-03 09:32:15  \n",
      "4  (833) 942-4710             1  2012-07-03 10:25:05  \n"
     ]
    }
   ],
   "source": [
    "query = \"SELECT * FROM Members\"\n",
    "df_members = pd.read_sql_query(query, engine)\n",
    "\n",
    "# Display the dataframe\n",
    "print(df_members.head())"
   ]
  },
  {
   "cell_type": "code",
   "execution_count": 10,
   "id": "2a9dc67e-1c27-41f6-9557-3e6f5e086b5b",
   "metadata": {},
   "outputs": [
    {
     "name": "stdout",
     "output_type": "stream",
     "text": [
      "   facility_name  total_revenue\n",
      "0   Table Tennis            180\n",
      "1  Snooker Table            240\n",
      "2     Pool Table            270\n"
     ]
    }
   ],
   "source": [
    "\n",
    "# Define the query\n",
    "query = \"\"\"\n",
    "SELECT f.name AS facility_name, \n",
    "       SUM(CASE \n",
    "           WHEN b.memid = 0 THEN b.slots * f.guestcost \n",
    "           ELSE b.slots * f.membercost \n",
    "       END) AS total_revenue\n",
    "FROM Bookings AS b\n",
    "JOIN Facilities AS f ON b.facid = f.facid\n",
    "GROUP BY f.name\n",
    "HAVING total_revenue < 1000\n",
    "ORDER BY total_revenue;\n",
    "\"\"\"\n",
    "\n",
    "# Execute the query and load the result into a DataFrame\n",
    "df_Q10 = pd.read_sql_query(query, engine)\n",
    "\n",
    "# Display the DataFrame\n",
    "print(df_Q10)\n"
   ]
  },
  {
   "cell_type": "code",
   "execution_count": 11,
   "id": "bc744dff-af48-4e10-a6cb-3d8754fec1c2",
   "metadata": {},
   "outputs": [
    {
     "name": "stdout",
     "output_type": "stream",
     "text": [
      "       member_surname member_firstname recommended_by_surname  \\\n",
      "0               Bader         Florence               Stibbons   \n",
      "1               Baker             Anne               Stibbons   \n",
      "2               Baker          Timothy                Farrell   \n",
      "3              Boothe              Tim                 Rownam   \n",
      "4             Butters           Gerald                  Smith   \n",
      "5              Coplin             Joan                  Baker   \n",
      "6             Crumpet            Erica                  Smith   \n",
      "7                Dare            Nancy               Joplette   \n",
      "8             Farrell            David                   None   \n",
      "9             Farrell           Jemima                   None   \n",
      "10              GUEST            GUEST                   None   \n",
      "11            Genting          Matthew                Butters   \n",
      "12               Hunt             John                Purview   \n",
      "13              Jones            David               Joplette   \n",
      "14              Jones          Douglas                  Jones   \n",
      "15           Joplette           Janice                  Smith   \n",
      "16          Mackenzie             Anna                  Smith   \n",
      "17               Owen          Charles                  Smith   \n",
      "18             Pinker            David                Farrell   \n",
      "19            Purview        Millicent                  Smith   \n",
      "20             Rownam              Tim                   None   \n",
      "21             Rumney        Henrietta                Genting   \n",
      "22             Sarwin        Ramnaresh                  Bader   \n",
      "23              Smith           Darren                   None   \n",
      "24              Smith           Darren                   None   \n",
      "25              Smith             Jack                  Smith   \n",
      "26              Smith            Tracy                   None   \n",
      "27           Stibbons           Ponder                  Tracy   \n",
      "28              Tracy           Burton                   None   \n",
      "29         Tupperware         Hyacinth                   None   \n",
      "30  Worthington-Smyth            Henry                  Smith   \n",
      "\n",
      "   recommended_by_firstname  \n",
      "0                    Ponder  \n",
      "1                    Ponder  \n",
      "2                    Jemima  \n",
      "3                       Tim  \n",
      "4                    Darren  \n",
      "5                   Timothy  \n",
      "6                     Tracy  \n",
      "7                    Janice  \n",
      "8                      None  \n",
      "9                      None  \n",
      "10                     None  \n",
      "11                   Gerald  \n",
      "12                Millicent  \n",
      "13                   Janice  \n",
      "14                    David  \n",
      "15                   Darren  \n",
      "16                   Darren  \n",
      "17                   Darren  \n",
      "18                   Jemima  \n",
      "19                    Tracy  \n",
      "20                     None  \n",
      "21                  Matthew  \n",
      "22                 Florence  \n",
      "23                     None  \n",
      "24                     None  \n",
      "25                   Darren  \n",
      "26                     None  \n",
      "27                   Burton  \n",
      "28                     None  \n",
      "29                     None  \n",
      "30                    Tracy  \n"
     ]
    }
   ],
   "source": [
    "\n",
    "# Define the query\n",
    "query = \"\"\"\n",
    "SELECT m1.surname AS member_surname, m1.firstname AS member_firstname, \n",
    "       m2.surname AS recommended_by_surname, m2.firstname AS recommended_by_firstname\n",
    "FROM Members AS m1\n",
    "LEFT JOIN Members AS m2 ON m1.recommendedby = m2.memid\n",
    "ORDER BY m1.surname, m1.firstname;\n",
    "\"\"\"\n",
    "\n",
    "# Execute the query and load the result into a DataFrame\n",
    "df_Q11 = pd.read_sql_query(query, engine)\n",
    "\n",
    "# Display the DataFrame\n",
    "print(df_Q11)\n"
   ]
  },
  {
   "cell_type": "code",
   "execution_count": 12,
   "id": "5e3d1e03-0379-490a-9093-9de057d12af4",
   "metadata": {},
   "outputs": [
    {
     "name": "stdout",
     "output_type": "stream",
     "text": [
      "     facility_name  total_usage_by_members\n",
      "0  Badminton Court                    1086\n",
      "1   Tennis Court 1                     957\n",
      "2   Massage Room 1                     884\n",
      "3   Tennis Court 2                     882\n",
      "4    Snooker Table                     860\n",
      "5       Pool Table                     856\n",
      "6     Table Tennis                     794\n",
      "7     Squash Court                     418\n",
      "8   Massage Room 2                      54\n"
     ]
    }
   ],
   "source": [
    "# Define the query\n",
    "query = \"\"\"\n",
    "SELECT f.name AS facility_name,\n",
    "       SUM(b.slots) AS total_usage_by_members\n",
    "FROM Bookings AS b\n",
    "JOIN Facilities AS f ON b.facid = f.facid\n",
    "WHERE b.memid != 0\n",
    "GROUP BY f.name\n",
    "ORDER BY total_usage_by_members DESC;\n",
    "\"\"\"\n",
    "\n",
    "# Execute the query and load the result into a DataFrame\n",
    "df_Q12 = pd.read_sql_query(query, engine)\n",
    "\n",
    "# Display the DataFrame\n",
    "print(df_Q12)\n"
   ]
  },
  {
   "cell_type": "code",
   "execution_count": 13,
   "id": "ff8c51a6-060f-435c-97b8-f1d6bd6f19ac",
   "metadata": {},
   "outputs": [
    {
     "name": "stdout",
     "output_type": "stream",
     "text": [
      "      facility_name    month  total_usage_by_members\n",
      "0   Badminton Court  2012-07                     165\n",
      "1   Badminton Court  2012-08                     414\n",
      "2   Badminton Court  2012-09                     507\n",
      "3    Massage Room 1  2012-07                     166\n",
      "4    Massage Room 1  2012-08                     316\n",
      "5    Massage Room 1  2012-09                     402\n",
      "6    Massage Room 2  2012-07                       8\n",
      "7    Massage Room 2  2012-08                      18\n",
      "8    Massage Room 2  2012-09                      28\n",
      "9        Pool Table  2012-07                     110\n",
      "10       Pool Table  2012-08                     303\n",
      "11       Pool Table  2012-09                     443\n",
      "12    Snooker Table  2012-07                     140\n",
      "13    Snooker Table  2012-08                     316\n",
      "14    Snooker Table  2012-09                     404\n",
      "15     Squash Court  2012-07                      50\n",
      "16     Squash Court  2012-08                     184\n",
      "17     Squash Court  2012-09                     184\n",
      "18     Table Tennis  2012-07                      98\n",
      "19     Table Tennis  2012-08                     296\n",
      "20     Table Tennis  2012-09                     400\n",
      "21   Tennis Court 1  2012-07                     201\n",
      "22   Tennis Court 1  2012-08                     339\n",
      "23   Tennis Court 1  2012-09                     417\n",
      "24   Tennis Court 2  2012-07                     123\n",
      "25   Tennis Court 2  2012-08                     345\n",
      "26   Tennis Court 2  2012-09                     414\n"
     ]
    }
   ],
   "source": [
    "# Define the query\n",
    "query = \"\"\"\n",
    "SELECT f.name AS facility_name,\n",
    "       strftime('%Y-%m', b.starttime) AS month,\n",
    "       SUM(b.slots) AS total_usage_by_members\n",
    "FROM Bookings AS b\n",
    "JOIN Facilities AS f ON b.facid = f.facid\n",
    "WHERE b.memid != 0\n",
    "GROUP BY f.name, month\n",
    "ORDER BY f.name, month;\n",
    "\"\"\"\n",
    "\n",
    "# Execute the query and load the result into a DataFrame\n",
    "df_Q13 = pd.read_sql_query(query, engine)\n",
    "\n",
    "# Display the DataFrame\n",
    "print(df_Q13)\n"
   ]
  },
  {
   "cell_type": "code",
   "execution_count": null,
   "id": "d00f56b9-8913-46df-a61d-98b614f4495c",
   "metadata": {},
   "outputs": [],
   "source": []
  }
 ],
 "metadata": {
  "kernelspec": {
   "display_name": "Python 3 (ipykernel)",
   "language": "python",
   "name": "python3"
  },
  "language_info": {
   "codemirror_mode": {
    "name": "ipython",
    "version": 3
   },
   "file_extension": ".py",
   "mimetype": "text/x-python",
   "name": "python",
   "nbconvert_exporter": "python",
   "pygments_lexer": "ipython3",
   "version": "3.11.5"
  }
 },
 "nbformat": 4,
 "nbformat_minor": 5
}
